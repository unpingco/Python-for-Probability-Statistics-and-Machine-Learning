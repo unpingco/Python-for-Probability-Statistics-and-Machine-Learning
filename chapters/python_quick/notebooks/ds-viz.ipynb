{
 "cells": [
  {
   "cell_type": "code",
   "execution_count": null,
   "metadata": {},
   "outputs": [],
   "source": [
    "# Data Visualization\n",
    "from matplotlib import pyplot as plt\n",
    "years = [1950, 1960, 1970, 1980, 1990, 2000, 2010]\n",
    "gdp = [300.2, 543.3, 1075.9, 2862.5, 5979.6, 10289.7, 14958.3]\n",
    "\n",
    "# plt.plot(years, gdp, color='green', marker='o', linestyle='solid')\n",
    "# plt.bar(years, gdp, color=\"green\")\n",
    "# plt.title(\"Nominal GDP\")\n",
    "# plt.ylabel(\"Billions of $\")\n",
    "\n",
    "\n",
    "# movies = [\"Annie Hall\", \"Ben-Hur\", \"Casablanca\", \"Gandhi\", \"West Side Story\"]\n",
    "# num_oscars = [5, 11, 3, 8, 10]\n",
    "# # xs = [i + 0.1 for i, _ in enumerate(movies)]\n",
    "\n",
    "# # plt.xticks([i + 0.5 for i, _ in enumerate(movies)], movies)\n",
    "# plt.ylabel(\"# of Academy Awards\")\n",
    "# plt.title(\"My Favorite Movies\")\n",
    "\n",
    "# plt.bar(movies, num_oscars, color=\"green\")\n",
    "\n",
    "\n",
    "plt.show()"
   ]
  }
 ],
 "metadata": {
  "language_info": {
   "name": "python"
  },
  "orig_nbformat": 4
 },
 "nbformat": 4,
 "nbformat_minor": 2
}
